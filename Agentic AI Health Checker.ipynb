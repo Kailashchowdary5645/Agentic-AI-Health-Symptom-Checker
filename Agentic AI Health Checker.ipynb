{
  "metadata": {
    "kernelspec": {
      "name": "",
      "display_name": ""
    },
    "language_info": {
      "name": ""
    }
  },
  "nbformat_minor": 5,
  "nbformat": 4,
  "cells": [
    {
      "id": "826af52c-88ea-46a0-9275-5fc2f6a125f1",
      "cell_type": "markdown",
      "source": "🚀 Getting Started\n1. Clone the Repository",
      "metadata": {}
    },
    {
      "id": "63358afb-3e7b-4983-8a3e-f29b8e67aedc",
      "cell_type": "code",
      "source": "git clone https://github.com/your-username/agentic-ai-health-symptom-checker.git\ncd agentic-ai-health-symptom-checker\n",
      "metadata": {
        "trusted": true
      },
      "outputs": [],
      "execution_count": null
    },
    {
      "id": "c34ca1cd-3452-4c2c-a6dd-177c5feba9aa",
      "cell_type": "markdown",
      "source": "2. Install Dependencies\nFor Node.js Backend:",
      "metadata": {}
    },
    {
      "id": "c4079fb2-b6f4-4fae-b9e0-37c628dc6ba1",
      "cell_type": "code",
      "source": "npm install",
      "metadata": {
        "trusted": true
      },
      "outputs": [],
      "execution_count": null
    },
    {
      "id": "f733d664-cd35-45b4-a42d-d88dd6d5ad0f",
      "cell_type": "markdown",
      "source": "For Python Backend:",
      "metadata": {}
    },
    {
      "id": "c0070450-021a-4c1c-b480-84df2f192556",
      "cell_type": "code",
      "source": "pip install -r requirements.txt",
      "metadata": {
        "trusted": true
      },
      "outputs": [],
      "execution_count": null
    },
    {
      "id": "47b4da20-6ceb-43db-bbb5-29138a715b65",
      "cell_type": "markdown",
      "source": "3. Configure IBM Services\nCreate an IBM Cloud Lite account.\n\nSet up Watsonx Assistant, Language Translator, Watson Discovery, and Cloudant.\n\nAdd your service credentials in .env file:",
      "metadata": {}
    },
    {
      "id": "fb18deae-6a54-4ec1-ae3d-10a1332809a7",
      "cell_type": "code",
      "source": "ASSISTANT_API_KEY=your-api-key\nTRANSLATOR_API_KEY=your-api-key\nDISCOVERY_API_KEY=your-api-key",
      "metadata": {
        "trusted": true
      },
      "outputs": [],
      "execution_count": null
    },
    {
      "id": "031a6029-bfa2-42ab-9bfa-d468db54ec5b",
      "cell_type": "markdown",
      "source": "4. Run the Application\nFor Node.js:",
      "metadata": {}
    },
    {
      "id": "44c246dc-ab31-4e23-a96e-fb6bc92353b2",
      "cell_type": "code",
      "source": "npm start",
      "metadata": {
        "trusted": true
      },
      "outputs": [],
      "execution_count": null
    },
    {
      "id": "ced57ad0-125a-4b17-b90b-05e6b1ef4243",
      "cell_type": "markdown",
      "source": "For Python:",
      "metadata": {}
    },
    {
      "id": "8a2d5443-acaf-4111-80e6-6f45fdb2b86c",
      "cell_type": "code",
      "source": "python app.py",
      "metadata": {
        "trusted": true
      },
      "outputs": [],
      "execution_count": null
    },
    {
      "id": "49ad513c-30e8-4dfb-89b1-5d8e33249bcb",
      "cell_type": "markdown",
      "source": "",
      "metadata": {}
    },
    {
      "id": "22684c10-6438-48c1-97f6-75295f58eb0f",
      "cell_type": "markdown",
      "source": "✅ Key Requirements for It to Work\n1. IBM Cloud Account\nEnsure you have an IBM Cloud Lite account with access to Watsonx and Watson Machine Learning services.\n\n2. API Key Configuration\nEnter your IBM Cloud API key when prompted:",
      "metadata": {}
    },
    {
      "id": "9d841230-0e2b-4c36-b90d-61f52e8554a3",
      "cell_type": "code",
      "source": "api_key = getpass.getpass(\"Please enter your api key (hit enter): \")",
      "metadata": {
        "trusted": true
      },
      "outputs": [],
      "execution_count": null
    },
    {
      "id": "3255f99d-f45e-4601-ad5f-4f155d45debb",
      "cell_type": "markdown",
      "source": "3. Space and Project IDs\n\nReplace:",
      "metadata": {}
    },
    {
      "id": "71189186-8e9e-47ca-88f7-b2c45a1c59b1",
      "cell_type": "code",
      "source": "space_id = \"47d05434-ab7b-4838-8163-e80e6ded0c19\"\nsource_project_id = \"3558480f-f5a0-4ef2-ae91-e11cd9bb4007\"",
      "metadata": {
        "trusted": true
      },
      "outputs": [],
      "execution_count": null
    },
    {
      "id": "243e465e-ae21-40b7-84f4-8a4a0de34cb8",
      "cell_type": "markdown",
      "source": "3. Space and Project IDs\n\nReplace:",
      "metadata": {}
    },
    {
      "id": "26378f0b-9a3d-4ac9-afa2-86db99fb4806",
      "cell_type": "code",
      "source": "space_id = \"47d05434-ab7b-4838-8163-e80e6ded0c19\"\nsource_project_id = \"3558480f-f5a0-4ef2-ae91-e11cd9bb4007\"",
      "metadata": {
        "trusted": true
      },
      "outputs": [],
      "execution_count": null
    },
    {
      "id": "b2cadb87-08ea-4317-86f0-ead3f96659d5",
      "cell_type": "markdown",
      "source": "with your actual IBM Cloud space ID and project ID.\n\n4. Model ID\n\nThis code uses meta-llama/llama-3-3-70b-instruct from watsonx.ai. Make sure it is available in your region and project.\n\n5. Run in Watson Studio or Jupyter\n\nThis notebook is designed for IBM Watson Studio or any Jupyter environment with ibm-watsonx-ai and langchain_ibm installed.\n\n6. Install Required Libraries",
      "metadata": {}
    },
    {
      "id": "9abbbe2e-76ba-4211-aa5d-e0a2955adc05",
      "cell_type": "code",
      "source": "pip install ibm-watsonx-ai langchain_ibm",
      "metadata": {
        "trusted": true
      },
      "outputs": [],
      "execution_count": null
    },
    {
      "id": "f0d9ed7b-6fd5-483f-8b80-4b2a38d1649f",
      "cell_type": "markdown",
      "source": "7. AI Service Deployment\n\nThe notebook walks through:\n\nFunction definition (gen_ai_service)\nLocal testing\nDeployment to Watsonx space\nREST API testing\n\n✅ How It Connects to Your Symptom Checker\nThe Python logic (symptom_checker.py) is separate from the watsonx deployment script.\n\n*To integrate:\n\nWrap the symptom analysis logic inside the gen_ai_service function OR call it as a custom tool within the agent.\n\nThen deploy as an AI Service using Watsonx.",
      "metadata": {}
    },
    {
      "id": "f3471bf5-883f-4780-8f5b-ee71ecbd0d38",
      "cell_type": "markdown",
      "source": "",
      "metadata": {}
    }
  ]
}